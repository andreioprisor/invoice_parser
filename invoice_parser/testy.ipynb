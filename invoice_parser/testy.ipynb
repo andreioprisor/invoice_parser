{
 "cells": [
  {
   "cell_type": "code",
   "execution_count": 12,
   "metadata": {},
   "outputs": [
    {
     "name": "stdout",
     "output_type": "stream",
     "text": [
      "Full Number: 5000.454, Decimal Part: .454\n",
      "Full Number: 10, Decimal Part: None\n"
     ]
    }
   ],
   "source": [
    "import re\n",
    "\n",
    "text = \"The total cost is 5000.454 and the tax was 10 sd\"\n",
    "\n",
    "# Regex to find numbers which may have a decimal part\n",
    "pattern = r'\\d+(?P<decimal>\\.\\d+)?'\n",
    "\n",
    "# Find all matches in the text\n",
    "matches = re.finditer(pattern, text)\n",
    "\n",
    "for match in matches:\n",
    "    # Accessing the whole number\n",
    "    full_number = match.group(0)  # `group(0)` returns the entire match\n",
    "    # Accessing the named group 'decimal'\n",
    "    decimal_part = match.group('decimal')  # Returns None if no decimal part is present\n",
    "    \n",
    "    print(f\"Full Number: {full_number}, Decimal Part: {decimal_part}\")\n",
    "\n"
   ]
  }
 ],
 "metadata": {
  "kernelspec": {
   "display_name": "Python 3",
   "language": "python",
   "name": "python3"
  },
  "language_info": {
   "codemirror_mode": {
    "name": "ipython",
    "version": 3
   },
   "file_extension": ".py",
   "mimetype": "text/x-python",
   "name": "python",
   "nbconvert_exporter": "python",
   "pygments_lexer": "ipython3",
   "version": "3.10.12"
  }
 },
 "nbformat": 4,
 "nbformat_minor": 2
}
